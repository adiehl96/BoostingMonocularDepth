{
  "nbformat": 4,
  "nbformat_minor": 0,
  "metadata": {
    "colab": {
      "name": "Boostmonoculardepth.ipynb",
      "provenance": [],
      "collapsed_sections": []
    },
    "kernelspec": {
      "name": "python3",
      "display_name": "Python 3"
    },
    "language_info": {
      "name": "python"
    },
    "accelerator": "GPU"
  },
  "cells": [
    {
      "cell_type": "markdown",
      "source": [
        "#Boosting Monocular Depth Estimation Models to High-Resolution via Content-Adaptive Multi-Resolution Merging\n",
        "\n",
        "This Colab Notebook contains an inference on the implementation from https://github.com/compphoto/BoostingMonocularDepth.\n",
        "\n",
        "It supports using [MiDas-v2][1] and [LeRes][2] but not [SGRnet][3].\n",
        "\n",
        "\n",
        "### Instructions\n",
        "0. Ensure using a GPU by setting \"Runtime/change runtime type\" to GPU\n",
        "1. Run the first code cell\n",
        "2. Put your test images inside /content/inputs or run the second code cell (which downloads a sample image from github)\n",
        "4. Run the third code cell with the title \"Ours with MiDas\" to generate a depth estimate using the MiDas model.\n",
        "5. Run the fourth code cell with the title \"Ours with LeRes\" to generate a depth estimate using the LeRes model.\n",
        "6. Results will be generated in /content/outputs_midas or /content/outputs_leres folders.\n",
        "7. You can keep rerunning code cells three and four, with different files in the input directory.\n",
        "\n",
        "\n",
        "[1]: https://github.com/intel-isl/MiDaS/tree/v2\n",
        "[2]: https://github.com/aim-uofa/AdelaiDepth/tree/main/LeReS\n",
        "[3]: https://github.com/KexianHust/Structure-Guided-Ranking-Loss"
      ],
      "metadata": {
        "id": "SJP9NPyAKJnH"
      }
    },
    {
      "cell_type": "code",
      "execution_count": null,
      "metadata": {
        "id": "rw8KwrT3cir8"
      },
      "outputs": [],
      "source": [
        "# Delete everything in the content (current) directory on google colab\n",
        "!rm -rf /content/* || echo rm -rf /content/* failed\n",
        "\n",
        "# Clone git repo and move it up by one level in the folder hierarchy\n",
        "!git clone https://github.com/compphoto/BoostingMonocularDepth.git\n",
        "!mv ./BoostingMonocularDepth ./BoostingMonocularDepthn\n",
        "!mv ./BoostingMonocularDepthn/* ./\n",
        "!rm -rf BoostingMonocularDepthn || echo rm -rf BoostingMonocularDepthn failed\n",
        "!rm -rf inputs\n",
        "\n",
        "# Downloading merge model weights\n",
        "!gdown https://drive.google.com/u/0/uc?id=1cU2y-kMbt0Sf00Ns4CN2oO9qPJ8BensP&export=download || echo Merge Model Weight Download failed\n",
        "!mkdir -p /content/pix2pix/checkpoints/mergemodel/\n",
        "!mv latest_net_G.pth /content/pix2pix/checkpoints/mergemodel/\n",
        "\n",
        "# Downloading Midas weights\n",
        "!gdown https://drive.google.com/uc?id=1nqW_Hwj86kslfsXR7EnXpEWdO2csz1cC || echo Midas Weight Download failed\n",
        "!mv model.pt /content/midas/\n",
        "\n",
        "# Downloading LeRes weights\n",
        "!wget https://cloudstor.aarnet.edu.au/plus/s/lTIJF4vrvHCAI31/download || echo LeRes Weight Download failed\n",
        "!mv download /content/res101.pth \n",
        "\n",
        "# Create input and output directories\n",
        "!mkdir -p inputs\n",
        "!mkdir -p outputs_midas\n",
        "!mkdir -p outputs_leres"
      ]
    },
    {
      "cell_type": "code",
      "source": [
        "# Download a sample image from github\n",
        "!wget https://github.com/compphoto/BoostingMonocularDepth/raw/main/inputs/sample2.jpg -O /content/inputs/sample2.jpg"
      ],
      "metadata": {
        "id": "2-tplFUcfp1e"
      },
      "execution_count": null,
      "outputs": []
    },
    {
      "cell_type": "code",
      "source": [
        "# Running the method using MiDas\n",
        "!python run.py --Final --data_dir /content/inputs --output_dir  /content/outputs_midas/ --depthNet 0 --colorize_results"
      ],
      "metadata": {
        "id": "MYKDzOayc-kb"
      },
      "execution_count": null,
      "outputs": []
    },
    {
      "cell_type": "code",
      "source": [
        "# Running the method using LeRes\n",
        "!python run.py --Final --data_dir /content/inputs --output_dir  /content/outputs_leres/ --depthNet 2 --colorize_results"
      ],
      "metadata": {
        "id": "9TaqQ10OgOQp"
      },
      "execution_count": null,
      "outputs": []
    }
  ]
}
